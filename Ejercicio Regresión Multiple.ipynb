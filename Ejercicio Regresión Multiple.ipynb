{
 "cells": [
  {
   "cell_type": "code",
   "execution_count": 5,
   "id": "300e0a2a",
   "metadata": {},
   "outputs": [],
   "source": [
    "import numpy as np\n",
    "import pandas as pd\n",
    "import matplotlib.pyplot as plt\n",
    "import seaborn as sns\n",
    "from jupyterthemes import jtplot\n",
    "from mpl_toolkits.mplot3d import Axes3D\n",
    "%matplotlib inline"
   ]
  },
  {
   "cell_type": "code",
   "execution_count": 6,
   "id": "bc076bec",
   "metadata": {},
   "outputs": [],
   "source": [
    "jtplot.style()"
   ]
  },
  {
   "cell_type": "code",
   "execution_count": 7,
   "id": "911ae318",
   "metadata": {},
   "outputs": [],
   "source": [
    "data = pd.read_csv('data_2d.csv', names = ['X1', 'X2', 'y'])"
   ]
  },
  {
   "cell_type": "code",
   "execution_count": 8,
   "id": "535c919b",
   "metadata": {},
   "outputs": [
    {
     "data": {
      "text/html": [
       "<div>\n",
       "<style scoped>\n",
       "    .dataframe tbody tr th:only-of-type {\n",
       "        vertical-align: middle;\n",
       "    }\n",
       "\n",
       "    .dataframe tbody tr th {\n",
       "        vertical-align: top;\n",
       "    }\n",
       "\n",
       "    .dataframe thead th {\n",
       "        text-align: right;\n",
       "    }\n",
       "</style>\n",
       "<table border=\"1\" class=\"dataframe\">\n",
       "  <thead>\n",
       "    <tr style=\"text-align: right;\">\n",
       "      <th></th>\n",
       "      <th>X1</th>\n",
       "      <th>X2</th>\n",
       "      <th>y</th>\n",
       "    </tr>\n",
       "  </thead>\n",
       "  <tbody>\n",
       "    <tr>\n",
       "      <th>0</th>\n",
       "      <td>17.930201</td>\n",
       "      <td>94.520592</td>\n",
       "      <td>320.259530</td>\n",
       "    </tr>\n",
       "    <tr>\n",
       "      <th>1</th>\n",
       "      <td>97.144697</td>\n",
       "      <td>69.593282</td>\n",
       "      <td>404.634472</td>\n",
       "    </tr>\n",
       "    <tr>\n",
       "      <th>2</th>\n",
       "      <td>81.775901</td>\n",
       "      <td>5.737648</td>\n",
       "      <td>181.485108</td>\n",
       "    </tr>\n",
       "    <tr>\n",
       "      <th>3</th>\n",
       "      <td>55.854342</td>\n",
       "      <td>70.325902</td>\n",
       "      <td>321.773638</td>\n",
       "    </tr>\n",
       "    <tr>\n",
       "      <th>4</th>\n",
       "      <td>49.366550</td>\n",
       "      <td>75.114040</td>\n",
       "      <td>322.465486</td>\n",
       "    </tr>\n",
       "    <tr>\n",
       "      <th>...</th>\n",
       "      <td>...</td>\n",
       "      <td>...</td>\n",
       "      <td>...</td>\n",
       "    </tr>\n",
       "    <tr>\n",
       "      <th>95</th>\n",
       "      <td>46.456779</td>\n",
       "      <td>82.000171</td>\n",
       "      <td>336.876154</td>\n",
       "    </tr>\n",
       "    <tr>\n",
       "      <th>96</th>\n",
       "      <td>77.130301</td>\n",
       "      <td>95.188759</td>\n",
       "      <td>438.460586</td>\n",
       "    </tr>\n",
       "    <tr>\n",
       "      <th>97</th>\n",
       "      <td>68.600608</td>\n",
       "      <td>72.571181</td>\n",
       "      <td>355.900287</td>\n",
       "    </tr>\n",
       "    <tr>\n",
       "      <th>98</th>\n",
       "      <td>41.693887</td>\n",
       "      <td>69.241126</td>\n",
       "      <td>284.834637</td>\n",
       "    </tr>\n",
       "    <tr>\n",
       "      <th>99</th>\n",
       "      <td>4.142669</td>\n",
       "      <td>52.254726</td>\n",
       "      <td>168.034401</td>\n",
       "    </tr>\n",
       "  </tbody>\n",
       "</table>\n",
       "<p>100 rows × 3 columns</p>\n",
       "</div>"
      ],
      "text/plain": [
       "           X1         X2           y\n",
       "0   17.930201  94.520592  320.259530\n",
       "1   97.144697  69.593282  404.634472\n",
       "2   81.775901   5.737648  181.485108\n",
       "3   55.854342  70.325902  321.773638\n",
       "4   49.366550  75.114040  322.465486\n",
       "..        ...        ...         ...\n",
       "95  46.456779  82.000171  336.876154\n",
       "96  77.130301  95.188759  438.460586\n",
       "97  68.600608  72.571181  355.900287\n",
       "98  41.693887  69.241126  284.834637\n",
       "99   4.142669  52.254726  168.034401\n",
       "\n",
       "[100 rows x 3 columns]"
      ]
     },
     "execution_count": 8,
     "metadata": {},
     "output_type": "execute_result"
    }
   ],
   "source": [
    "data"
   ]
  },
  {
   "cell_type": "code",
   "execution_count": 9,
   "id": "f494c4da",
   "metadata": {},
   "outputs": [],
   "source": [
    "class Regressors:\n",
    "    \n",
    "    def score(self, y_pred, y_real):\n",
    "        return 1 - ((y_real - y_pred) ** 2).sum() / ((y_real - y_real.mean()) ** 2).sum()"
   ]
  },
  {
   "cell_type": "code",
   "execution_count": 10,
   "id": "5a8ae764",
   "metadata": {},
   "outputs": [],
   "source": [
    "# ejercicio REgresión Multiple\n",
    "class LinearRegresor(Regressors):\n",
    "    \n",
    "    def __init__(self):\n",
    "        self.alpha = 0\n",
    "        self.beta1 = 0\n",
    "        self.beta2 = 0\n",
    "                \n",
    "    def fit(self, x1: np.array, x2: np.array, y: np.array):\n",
    "        n = len(y)\n",
    "        # Calcular los coeficientes de la regresión lineal\n",
    "        X = np.column_stack((x1, x2))\n",
    "        XTX_inv = np.linalg.inv(np.dot(X.T, X))\n",
    "        beta = np.dot(XTX_inv, np.dot(X.T, y))\n",
    "        self.beta1, self.beta2 = beta\n",
    "        self.alpha = np.mean(y) - self.beta1 * np.mean(x1) - self.beta2 * np.mean(x2) \n",
    "        \n",
    "    def predict(self, x1: np.array, x2: np.array):\n",
    "        return self.alpha + self.beta1 * x1 + self.beta2 * x2 "
   ]
  },
  {
   "cell_type": "code",
   "execution_count": 12,
   "id": "a3521aa8",
   "metadata": {},
   "outputs": [],
   "source": [
    "x1, x2, y = data['X1'], data['X2'], data['y']"
   ]
  },
  {
   "cell_type": "code",
   "execution_count": null,
   "id": "102d33d9",
   "metadata": {},
   "outputs": [],
   "source": []
  },
  {
   "cell_type": "code",
   "execution_count": 13,
   "id": "e65abf20",
   "metadata": {},
   "outputs": [],
   "source": [
    "import numpy as np\n",
    "\n",
    "# Crear una instancia del modelo de regresión lineal\n",
    "model = LinearRegresor()\n",
    "\n",
    "# Ajustar el modelo a los datos\n",
    "model.fit(x1, x2, y)\n",
    "\n"
   ]
  },
  {
   "cell_type": "code",
   "execution_count": 15,
   "id": "38b805ce",
   "metadata": {},
   "outputs": [],
   "source": [
    "predictions = model.predict(x1, x2)"
   ]
  },
  {
   "cell_type": "code",
   "execution_count": 16,
   "id": "38433bf3",
   "metadata": {},
   "outputs": [
    {
     "data": {
      "text/plain": [
       "0     318.481584\n",
       "1     404.779449\n",
       "2     183.153824\n",
       "3     323.227840\n",
       "4     324.351859\n",
       "         ...    \n",
       "95    338.989632\n",
       "96    440.532144\n",
       "97    355.774073\n",
       "98    291.274985\n",
       "99    164.457055\n",
       "Length: 100, dtype: float64"
      ]
     },
     "execution_count": 16,
     "metadata": {},
     "output_type": "execute_result"
    }
   ],
   "source": [
    "predictions"
   ]
  },
  {
   "cell_type": "code",
   "execution_count": 19,
   "id": "8b6f1290",
   "metadata": {},
   "outputs": [
    {
     "data": {
      "text/plain": [
       "0.9979816074280633"
      ]
     },
     "execution_count": 19,
     "metadata": {},
     "output_type": "execute_result"
    }
   ],
   "source": [
    "model.score(predictions, y)"
   ]
  },
  {
   "cell_type": "code",
   "execution_count": null,
   "id": "534be0d1",
   "metadata": {},
   "outputs": [],
   "source": []
  }
 ],
 "metadata": {
  "kernelspec": {
   "display_name": "Python 3 (ipykernel)",
   "language": "python",
   "name": "python3"
  },
  "language_info": {
   "codemirror_mode": {
    "name": "ipython",
    "version": 3
   },
   "file_extension": ".py",
   "mimetype": "text/x-python",
   "name": "python",
   "nbconvert_exporter": "python",
   "pygments_lexer": "ipython3",
   "version": "3.11.5"
  }
 },
 "nbformat": 4,
 "nbformat_minor": 5
}
